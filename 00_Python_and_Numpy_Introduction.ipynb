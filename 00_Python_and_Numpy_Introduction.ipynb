{
 "cells": [
  {
   "cell_type": "markdown",
   "metadata": {},
   "source": [
    "# Python and Numpy Introduction\n",
    "\n",
    "This notebook shall give you a small overview about the basics for [Python](https://www.python.org/) and the [Numpy](https://numpy.org/) library.\n",
    "\n",
    "Python is a popular programming language that is used for several, plattform independent development tasks.\n",
    "\n",
    "Numpy is the core library for scientific computing in Python. It provides a high-performance multidimensional array object, and tools for working with these arrays. If you are already familiar with MATLAB, you will see that they have some similarities. An overview of MATLAB vs. Numpy can be found [here](https://numpy.org/doc/stable/user/numpy-for-matlab-users.html)\n",
    "\n",
    "**Python**\n",
    "* [1. Python](http://sixthresearcher.com/wp-content/uploads/2016/12/Python3_reference_cheat_sheet.pdf)\n",
    "* [2. Python](https://perso.limsi.fr/pointal/_media/python:cours:mementopython3-english.pdf)\n",
    "\n",
    "**Numpy**\n",
    "* [1. Numpy_CheatSheet](https://s3.amazonaws.com/assets.datacamp.com/blog_assets/Numpy_Python_Cheat_Sheet.pdf)\n",
    "* [2. Numpy_CheatSheet](http://datasciencefree.com/numpy.pdf)\n",
    "* [3. Numpy_CheatSheet](https://s3.amazonaws.com/dq-blog-files/numpy-cheat-sheet.pdf)\n",
    "* [4. Numpy_CheatSheet (array)](https://blog.finxter.com/wp-content/uploads/2019/04/11-Numpy-Cheat-Sheet.pdf)\n",
    "\n",
    "We will just give an overview for some Python and Numpy functionality that can be useful during this workshop. We will also introduce the [matplotlib](https://matplotlib.org/) for plotting data"
   ]
  },
  {
   "cell_type": "code",
   "execution_count": null,
   "metadata": {},
   "outputs": [],
   "source": [
    "import numpy as np\n",
    "import matplotlib.pyplot as plt\n",
    "import cv2"
   ]
  },
  {
   "cell_type": "markdown",
   "metadata": {},
   "source": [
    "# Python\n",
    "\n",
    "Python has a simple syntax similar to the English language that allows developers to write programs with fewer lines than some other programming languages. Further, Python can be treated in a procedural way, an object-oriented way or a functional way."
   ]
  },
  {
   "cell_type": "markdown",
   "metadata": {},
   "source": [
    "## Basic types\n",
    "Like most languages, Python has a number of basic types including integers, floats, booleans, and strings. These data types behave in ways that are familiar from other programming languages.\n",
    "\n",
    "### Numbers\n",
    "Integers and floats work as you would expect from other languages:"
   ]
  },
  {
   "cell_type": "code",
   "execution_count": null,
   "metadata": {},
   "outputs": [],
   "source": [
    "# This is a comment\n",
    "print(\"Hello\") # Prints \"Hello\"\n",
    "print(\"=\"*5)   # Prints \"=====\"\n",
    "x = 42         # Define an interger variable\n",
    "print(type(x)) # Prints \"<class 'int'>\"\n",
    "print(x)       # Prints \"42\"\n",
    "print(x + 1)   # Addition; prints \"43\"\n",
    "print(x - 1)   # Subtraction; prints \"41\"\n",
    "print(x * 2)   # Multiplication; prints \"84\"\n",
    "print(x ** 2)  # Exponentiation; prints \"1764\"\n",
    "x += 1         # Inplace Addition;\n",
    "print(x)       # Prints \"43\"\n",
    "x *= 2         # Inplace Multiplication;\n",
    "print(x)       # Prints \"86\"\n",
    "y = 2.5        # Define a float variable\n",
    "print(type(y)) # Prints \"<class 'float'>\"\n",
    "print(y, y + 1, y * 2, y ** 2) # Prints \"2.5 3.5 5.0 6.25\"\n",
    "n = None       # Define a none variable (The None keyword is used to define a null value, or no value at all)\n",
    "               # None is not the same as 0, False, or an empty string. \n",
    "               # None is a datatype of its own (NoneType) and only None can be None.\n",
    "print(type(n)) # Prints \"<class 'NoneType'>\""
   ]
  },
  {
   "cell_type": "markdown",
   "metadata": {},
   "source": [
    "### Booleans\n",
    "Python implements all of the usual operators for Boolean logic, but uses English words rather than known C/C++ symbols (&&, ||, etc.):"
   ]
  },
  {
   "cell_type": "code",
   "execution_count": null,
   "metadata": {},
   "outputs": [],
   "source": [
    "t = True\n",
    "f = False\n",
    "print(type(t)) # Prints \"<class 'bool'>\"\n",
    "print(t and f) # Logical AND; prints \"False\"\n",
    "print(t or f)  # Logical OR; prints \"True\"\n",
    "print(not t)   # Logical NOT; prints \"False\"\n",
    "print(t != f)  # Logical XOR; prints \"True\""
   ]
  },
  {
   "cell_type": "markdown",
   "metadata": {},
   "source": [
    "### Strings\n",
    "Python supports strings with a lot of useful functions. We will show some here using the great \"hello world\".\n",
    "\n",
    "[String Methods](https://docs.python.org/3.5/library/stdtypes.html#string-methods)"
   ]
  },
  {
   "cell_type": "code",
   "execution_count": null,
   "metadata": {},
   "outputs": [],
   "source": [
    "hello = 'hello'    # String literals can use single quotes\n",
    "world = \"world\"    # or double quotes; it does not matter.\n",
    "print(hello)       # Prints \"hello\"\n",
    "print(len(hello))  # String length; prints \"5\"\n",
    "hw = hello + ' ' + world  # String concatenation\n",
    "print(hw)  # prints \"hello world\"\n",
    "hw12 = '%s %s %d' % (hello, world, 12)  # sprintf style string formatting\n",
    "print(hw12)  # prints \"hello world 12\"\n",
    "val = 12.345678\n",
    "print(f\"{hello} {world} {val:.2f}\")     # f-String style formatting \n",
    "\n",
    "\n",
    "# Some usefull Methods\n",
    "s = \"hello\"\n",
    "print(s.capitalize())  # Capitalize a string; prints \"Hello\"\n",
    "print(s.upper())       # Convert a string to uppercase; prints \"HELLO\"\n",
    "print(s.rjust(7))      # Right-justify a string, padding with spaces; prints \"  hello\"\n",
    "print(s.center(7))     # Center a string, padding with spaces; prints \" hello \"\n",
    "print(s.replace('l', '(ell)'))  # Replace all instances of one substring with another;\n",
    "                                # prints \"he(ell)(ell)o\"\n",
    "print('  world '.strip())  # Strip leading and trailing whitespace; prints \"world\"\n",
    "print(s[2])            # Prints \"l\", the 3. character of s (zero index)"
   ]
  },
  {
   "cell_type": "markdown",
   "metadata": {},
   "source": [
    "## Containers\n",
    "Containers are the most important part when working with python or neural networks. We will show some types of containers that are used by other submodules also.\n",
    "* [Lists](https://docs.python.org/3.5/tutorial/datastructures.html#more-on-lists): is a collection which is ordered and changeable. Allows duplicate members.\n",
    "* [Tuples](https://docs.python.org/3.5/tutorial/datastructures.html#tuples-and-sequences): is a collection which is ordered and unchangeable. Allows duplicate members.\n",
    "* [Sets](https://docs.python.org/3.5/library/stdtypes.html#set):  is a collection which is unordered and unindexed. **No** duplicate members.\n",
    "* [Dictionaries](https://docs.python.org/3.5/library/stdtypes.html#dict): is a collection which is unordered, changeable and indexed. **No** duplicate members.\n",
    "\n",
    "\n",
    "Further we will introduce the `loop` functionality to access elements within containers and we will show how `slicing` works. Slicing in python means taking elements from one given index to another given index. We will see slicing again in the context of numpy arrays."
   ]
  },
  {
   "cell_type": "markdown",
   "metadata": {},
   "source": [
    "### Lists\n",
    "List is the same as an array but it is rezizable and can contain different types"
   ]
  },
  {
   "cell_type": "code",
   "execution_count": null,
   "metadata": {},
   "outputs": [],
   "source": [
    "xs = [3, 1, 2]    # Create a list\n",
    "print(xs, xs[2])  # Prints \"[3, 1, 2] 2\"\n",
    "print(xs[-1])     # Negative indices count from the end of the list; prints \"2\"\n",
    "xs[2] = 'foo'     # Lists can contain elements of different types\n",
    "print(xs)         # Prints \"[3, 1, 'foo']\"\n",
    "xs.append('bar')  # Add a new element to the end of the list\n",
    "print(xs)         # Prints \"[3, 1, 'foo', 'bar']\"\n",
    "x = xs.pop()      # Remove and return the last element of the list\n",
    "print(x, xs)      # Prints \"bar [3, 1, 'foo']\""
   ]
  },
  {
   "cell_type": "markdown",
   "metadata": {},
   "source": [
    "#### Loops"
   ]
  },
  {
   "cell_type": "code",
   "execution_count": null,
   "metadata": {},
   "outputs": [],
   "source": [
    "nums = list(range(5,10,2)) \n",
    "\n",
    "# Simple Loop\n",
    "for n in nums:\n",
    "    print(n)\n",
    "    \n",
    "# Indexing using Enumerate\n",
    "for i,n in enumerate(nums):  # Use built-in method \"enumerate\" to access the index\n",
    "    print(f\"#{i}: {n}\")"
   ]
  },
  {
   "cell_type": "markdown",
   "metadata": {},
   "source": [
    "#### Comprehension\n",
    "Transforming ont type of data to another"
   ]
  },
  {
   "cell_type": "code",
   "execution_count": null,
   "metadata": {},
   "outputs": [],
   "source": [
    "import random\n",
    "nums = random.sample(range(0, 10), 5)\n",
    "\n",
    "print(nums)\n",
    "\n",
    "squares = []\n",
    "# With for loop\n",
    "for x in nums:\n",
    "    squares.append(x ** 2)\n",
    "print(squares)   # Prints [0, 1, 4, 9, 16]\n",
    "\n",
    "# List comprehension\n",
    "squares = [x ** 2 for x in nums]\n",
    "print(squares)   # Prints [0, 1, 4, 9, 16]\n",
    "\n",
    "# List comprehension with if condition\n",
    "even_squares = [x ** 2 for x in nums if x % 2 == 0]\n",
    "print(even_squares)  # Prints \"[0, 4, 16]\"\n",
    "\n",
    "# List comprehension with if-else condition\n",
    "even_squares = [x ** 2 if x % 2 == 0 else x/2 for x in nums]\n",
    "print(even_squares)  # Prints \"[0, 0.5, 4, 1.5, 16]\"\n",
    "\n",
    "# Sorting nums lists\n",
    "sorted(nums) "
   ]
  },
  {
   "cell_type": "markdown",
   "metadata": {},
   "source": [
    "#### Slicing\n"
   ]
  },
  {
   "cell_type": "code",
   "execution_count": null,
   "metadata": {},
   "outputs": [],
   "source": [
    "nums = list(range(5))     # range is a built-in function that creates a list of integers\n",
    "print(nums)               # Prints \"[0, 1, 2, 3, 4]\"\n",
    "print(nums[2:4])          # Get a slice from index 2 to 4 (exclusive); prints \"[2, 3]\"\n",
    "print(nums[2:])           # Get a slice from index 2 to the end; prints \"[2, 3, 4]\"\n",
    "print(nums[:2])           # Get a slice from the start to index 2 (exclusive); prints \"[0, 1]\"\n",
    "print(nums[:])            # Get a slice of the whole list; prints \"[0, 1, 2, 3, 4]\"\n",
    "print(nums[:-1])          # Slice indices can be negative; prints \"[0, 1, 2, 3]\"\n",
    "nums[2:4] = [8, 9]        # Assign a new sublist to a slice\n",
    "print(nums)    "
   ]
  },
  {
   "cell_type": "markdown",
   "metadata": {},
   "source": [
    "### Dictionaries\n",
    "A dictionary stores (key, value) pairs, similar to a Map in Java. You can use it like this:"
   ]
  },
  {
   "cell_type": "code",
   "execution_count": null,
   "metadata": {},
   "outputs": [],
   "source": [
    "d = {             # Create a new dictionary with some data\n",
    "  \"name\": \"Elektrobit\",\n",
    "  \"site\": \"Radolfzell\",\n",
    "  \"employees\": 20\n",
    "}  \n",
    "print(d['name'])       # Get an entry from a dictionary; prints \"Elektrobit\"\n",
    "print('site' in d)     # Check if a dictionary has a given key; prints \"True\"\n",
    "d['manager'] = 'Zosel' # Set an entry in a dictionary\n",
    "print(d['manager'])      # Prints \"Zosel\"\n",
    "# print(d['kicker'])  # KeyError: 'kicker' not a key of d :-)\n",
    "print(d.get('kicker', 'N/A'))  # Get an element with a default; prints \"N/A\"\n",
    "print(d.get('employees', 'N/A'))    # Get an element with a default; prints \"wet\"\n",
    "del d['site']         # Remove an element from a dictionary\n",
    "print(d.get('site', 'N/A')) # \"site\" is no longer a key; prints \"N/A\""
   ]
  },
  {
   "cell_type": "markdown",
   "metadata": {},
   "source": [
    "#### Loops: \n",
    "It is easy to iterate over the keys in a dictionary.\n",
    "If you want access to keys and their corresponding values, use the `items` method:"
   ]
  },
  {
   "cell_type": "code",
   "execution_count": null,
   "metadata": {},
   "outputs": [],
   "source": [
    "d = {'human': 2, 'dog': 4, 'spider': 8}\n",
    "\n",
    "\n",
    "for animal in d:\n",
    "    legs = d[animal]\n",
    "    print('A %s has %d legs' % (animal, legs))\n",
    "    \n",
    "print()\n",
    "print(\"With 'item' method\")\n",
    "for animal, legs in d.items():\n",
    "    print('A %s has %d legs' % (animal, legs))\n",
    "\n",
    "print()\n",
    "print(\"Sorted Dictionary\")\n",
    "print(d)                   # Prints dictionary \"{'human': 2, 'dog': 4, 'spider': 8}\"\n",
    "print(sorted(d))           # Prints list of sorted keys \"['dog', 'human', 'spider']\"\n",
    "print(sorted(d.items()))   # Prints list of sorted tuples \"[('dog', 4), ('human', 2), ('spider', 8)]\""
   ]
  },
  {
   "cell_type": "markdown",
   "metadata": {},
   "source": [
    "#### Comprehension\n",
    "Similar to list comprehension, but allow to esily construct dictionaries"
   ]
  },
  {
   "cell_type": "code",
   "execution_count": null,
   "metadata": {},
   "outputs": [],
   "source": [
    "nums = range(5)   # range creates an iterable\n",
    "print(nums)       # Prints \"range(5)\"\n",
    "print(type(nums)) # Prints \"<class 'range'>\" \n",
    "even_num_to_square = {x: x ** 2 for x in nums if x % 2 == 0}\n",
    "print(even_num_to_square)  # Prints \"{0: 0, 2: 4, 4: 16}\""
   ]
  },
  {
   "cell_type": "markdown",
   "metadata": {},
   "source": [
    "### Sets\n",
    "A set is an unordered collection of distinct elements."
   ]
  },
  {
   "cell_type": "code",
   "execution_count": null,
   "metadata": {},
   "outputs": [],
   "source": [
    "animals = {'cat', 'dog'}\n",
    "print(animals)            # Prints \"{'cat', 'dog'}\"\n",
    "print('cat' in animals)   # Check if an element is in a set; prints \"True\"\n",
    "print('fish' in animals)  # prints \"False\"\n",
    "animals.add('fish')       # Add an element to a set\n",
    "print('fish' in animals)  # Prints \"True\"\n",
    "print(len(animals))       # Number of elements in a set; prints \"3\"\n",
    "animals.add('cat')        # Adding an element that is already in the set does nothing\n",
    "print(len(animals))       # Prints \"3\"\n",
    "animals.remove('cat')     # Remove an element from a set\n",
    "print(len(animals))       # Prints \"2\"\n",
    "animals.update([\"horse\", \"monkey\", \"alpaka\"]) # Add multiple items to a set use \"update\"\n",
    "print(animals)            # Prints the updated animals\n",
    "print(sorted(animals))    # Prints sorted animals as list \"['alpaka', 'dog', 'fish', 'horse', 'monkey']\""
   ]
  },
  {
   "cell_type": "markdown",
   "metadata": {},
   "source": [
    "#### Loops\n",
    "Iterating over a `set` has the same syntax as iterating over a `list`; however since sets are unordered, you cannot make assumptions about the order in which you visit the elements of the set:"
   ]
  },
  {
   "cell_type": "code",
   "execution_count": null,
   "metadata": {},
   "outputs": [],
   "source": [
    "animals = {'cat', 'dog', 'fish'}\n",
    "for idx, animal in enumerate(animals):\n",
    "    print('#%d: %s' % (idx + 1, animal)) # Prints \"#1: fish\", \"#2: dog\", \"#3: cat\"\n",
    "\n",
    "print()\n",
    "print(\"Sorted Set\")\n",
    "for idx, animal in enumerate(sorted(animals)):\n",
    "    print('#%d: %s' % (idx + 1, animal)) # Prints \"#1: cat\", \"#2: dog\", \"#3: fish\""
   ]
  },
  {
   "cell_type": "markdown",
   "metadata": {},
   "source": [
    "#### Comprehension\n",
    "Like `lists` and `dictionaries`, we can easily construct `sets` using set comprehensions:"
   ]
  },
  {
   "cell_type": "code",
   "execution_count": null,
   "metadata": {},
   "outputs": [],
   "source": [
    "from math import sqrt\n",
    "nums = list(range(10))  # Creates a list from 0..10\n",
    "print(nums)            \n",
    "nums_list = [int(sqrt(x)) for x in nums]  # Take the sqrt of every item in x as integer as a \"list\"\n",
    "print(nums_list)  # Print [0, 1, 1, 1, 2, 2, 2, 2, 2, 3] \n",
    "\n",
    "nums_set = {int(sqrt(x)) for x in nums}  # Take the sqrt of every item in x as integer as a \"set\"\n",
    "print(nums_set)  # Prints \"{0, 1, 2, 3}\"\n",
    "\n",
    "# We can also create a set directly from a list\n",
    "print(set(nums_list)) # Prints \"{0, 1, 2, 3}\""
   ]
  },
  {
   "cell_type": "markdown",
   "metadata": {},
   "source": [
    "### Tuples\n",
    "A tuple is an (immutable/unchangeable) ordered list of values. A tuple is in many ways similar to a list. \n",
    "One of the most important differences is that \n",
    "* tuples can be used as keys in dictionaries and as elements of sets, while lists cannot. \n",
    "\n",
    "This is because keys in dictionaries is an unchangeable value also"
   ]
  },
  {
   "cell_type": "code",
   "execution_count": null,
   "metadata": {},
   "outputs": [],
   "source": [
    "d = {(x, x + 1): x for x in range(5)}  # Create a dictionary with tuple keys\n",
    "print(d)\n",
    "t = (3, 4)        # Create a tuple\n",
    "print(t)          # Prints (3,4)\n",
    "print(type(t))    # Prints \"<class 'tuple'>\"\n",
    "print(d[t])       # Prints \"3\"\n",
    "print(d[(1, 2)])  # Prints \"1\"\n",
    "\n",
    "print(\"\")\n",
    "print(\"Tuple manipulation\")\n",
    "#t[0] = 4         # Unomment this line leads to an error because item assignment is not allowed\n",
    "tl = list(t)      # Create a list from the tuple\n",
    "tl[0]=2; tl[1]=3  # Modify the list\n",
    "t = tuple(tl)     # Create a tuple\n",
    "print(t)          # Prints (2,3) \n",
    "print(d[t])       # Prints \"2\"\n"
   ]
  },
  {
   "cell_type": "markdown",
   "metadata": {},
   "source": [
    "# Numpy\n",
    "As mentioned in the introduction, `numpy` (numerical python) is the core library for scientific programming. In the following cells we will give you an introduction to numpy and show you how you can use in practice.\n",
    "\n",
    "## Why use Numpy\n",
    "In Python we have lists that serve the purpose of arrays, but they are slow to process.\n",
    "Numpy aims to provide an array object that is up to 50x faster that traditional Python lists. The array object in Numpy is called [`ndarray`](https://numpy.org/doc/stable/reference/generated/numpy.ndarray.html), it provides a lot of supporting functions that make working with `ndarray` easy. Arrays are very frequently used in data science, where speed and resources are very important.\n",
    "\n",
    "## Why is Numpy faster than Python lists\n",
    "Unlike lists NumPy arrays are stored at one continuous place in memory so processes can access and manipulate them very efficiently. As you know from programming or at least the process of memory caching it is always good to load memory as fast as possible. \n",
    "\n",
    "In Computer science this is called `locality of reference`. This is the main reason why Numpy is faster than Python lists\n",
    "\n",
    "Further, Numpy arrays are optimized to work with common CPU, GPU an TPU (Tensor Programming Unit)"
   ]
  },
  {
   "cell_type": "markdown",
   "metadata": {},
   "source": [
    "## Numpy Arrays\n",
    "\n",
    "A numpy array is a grid of values, all of the same type, and is indexed by a tuple of nonnegative integers. \n",
    "* The number of dimensions is the rank of the array; \n",
    "* The shape of an array is a tuple of integers giving the size of the array along each dimension.\n",
    "\n",
    "We can initialize numpy arrays from nested Python lists, and access elements using square brackets:"
   ]
  },
  {
   "cell_type": "markdown",
   "metadata": {},
   "source": [
    "### 0-D Arrays (Scalars)\n",
    "0-D arrays, or Scalars, are the elements in an array. Each value in an array is a 0-D array."
   ]
  },
  {
   "cell_type": "code",
   "execution_count": null,
   "metadata": {},
   "outputs": [],
   "source": [
    "a = np.array(42)\n",
    "print(type(a))  # Prints \"<class 'numpy.ndarray'>\"\n",
    "print(a.shape)  # Prints \"()\"\n",
    "a               "
   ]
  },
  {
   "cell_type": "markdown",
   "metadata": {},
   "source": [
    "### 1-D Arrays (Vectors)\n",
    "An array that has 0-D arrays as its elements is called uni-dimensional or 1-D array or vector."
   ]
  },
  {
   "cell_type": "code",
   "execution_count": null,
   "metadata": {},
   "outputs": [],
   "source": [
    "a = np.array([1, 2, 3])   # Create a rank 1 array\n",
    "print(type(a))            # Prints \"<class 'numpy.ndarray'>\"\n",
    "print(a.shape)            # Prints the shape \"(3,)\"\n",
    "print(a[0], a[1], a[2])   # Prints the elements at indices \"1 2 3\"\n",
    "a[0] = 5                  # Change an element of the array\n",
    "print(a)                  # Prints \"[5, 2, 3]\"\n",
    "print(a.ndim)             # Prints the dimension \"1\""
   ]
  },
  {
   "cell_type": "markdown",
   "metadata": {},
   "source": [
    "### 2-D Arrays (Matrix)\n",
    "An array that has 1-D arrays as its elements is called a 2-D array or matrix."
   ]
  },
  {
   "cell_type": "code",
   "execution_count": null,
   "metadata": {},
   "outputs": [],
   "source": [
    "a = np.array([[1, 2, 3], [4, 5, 6]])   # Create a rank 2 array\n",
    "print(type(a))                         # Prints \"<class 'numpy.ndarray'>\"\n",
    "print(a.shape)                         # Prints the shape \"(2,3)\"\n",
    "print(a[0, 0], a[0, 1], a[1, 0])       # Prints the elements at indices \"1 2 4\"\n",
    "print(a.ndim)                          # Prints the dimension \"2\""
   ]
  },
  {
   "cell_type": "markdown",
   "metadata": {},
   "source": [
    "### N-D Arrays (Tensor)\n",
    "A tensor is a generalization of vectors and matrices and is easily understood as a multidimensional array."
   ]
  },
  {
   "cell_type": "code",
   "execution_count": null,
   "metadata": {},
   "outputs": [],
   "source": [
    "a = np.array([[[1, 2, 3], [4, 5, 6]],       # Create a rank 3 array\n",
    "              [[7, 8, 9], [10, 11, 12]]])\n",
    "print(type(a))                              # Prints \"<class 'numpy.ndarray'>\"\n",
    "print(a.shape)                              # Prints the shape \"(2,3,3)\"\n",
    "print(a[0, 0], a[0, 1], a[1, 0], a[1, 1])   # Prints elements at indices \"[1 2 3] [4 5 6] [7 8 9] [10 11 12]\"\n",
    "print(a.ndim)                               # Prints the dimension \"2\"\n",
    "print(a[0, 1, 2])                           # Prints \"6\""
   ]
  },
  {
   "cell_type": "markdown",
   "metadata": {},
   "source": [
    "#### Example Explained\n",
    "`a = np.array([[[1, 2, 3], [4, 5, 6]],       \n",
    "              [[7, 8, 9], [10, 11, 12]]])`\n",
    "\n",
    "<br><br>\n",
    "The N-D array `a` has `N=3` dimentions `a[first_dim,second_dim,third_dim]`\n",
    "\n",
    "Now we go step by step to explain why `a[0, 1, 2]` prints the value `6`.\n",
    "\n",
    "**Fist Dimension**\n",
    "The first number represents the first dimension, which contains two arrays:<br>\n",
    "`[[1, 2, 3], [4, 5, 6]]` <br>\n",
    "and:<br>\n",
    "`[[7, 8, 9], [10, 11, 12]]`<br>\n",
    "Since we selected 0, we are left with the first array:<br>\n",
    "`[[1, 2, 3], [4, 5, 6]]`<br>\n",
    "\n",
    "<br>\n",
    "\n",
    "**Second Dimension**\n",
    "The second number represents the second dimension, which also contains two arrays (the two from **First Dimenion**):<br>\n",
    "`[1, 2, 3]` <br>\n",
    "and: <br>\n",
    "`[4, 5, 6]` <br>\n",
    "Since we selected 1, we are left with the second array: <br>\n",
    "`[4, 5, 6]` <br>\n",
    "\n",
    "**Third Dimension**\n",
    "The third number represents the third dimension, which contains three values (the valued from the **Second Dimention**):<br>\n",
    "` Index 0: 4 \n",
    "Index 1: 5 \n",
    "Index 2: 6`\n",
    "\n",
    "Since we selected `index 2`, we end up with the third value:\n",
    "`6`"
   ]
  },
  {
   "cell_type": "markdown",
   "metadata": {},
   "source": [
    "## Numpy functions\n",
    "Numpy also provides many functions to create arrays. We provide some functions you shoud know.\n",
    "In the [Numpy_CheatSheet](https://s3.amazonaws.com/assets.datacamp.com/blog_assets/Numpy_Python_Cheat_Sheet.pdf) you will find some more useful functions"
   ]
  },
  {
   "cell_type": "code",
   "execution_count": null,
   "metadata": {},
   "outputs": [],
   "source": [
    "a = np.zeros((2,2))          # Create an array of all zeros\n",
    "print(\"np.zeros:\\n\", a) \n",
    "\n",
    "a = np.ones((1,2))           # Create an array of all ones\n",
    "print(\"np.ones:\\n\", a)\n",
    "\n",
    "a = np.full((2,2), 7)        # Create a constant array\n",
    "print(\"np.full:\\n\", a)  \n",
    "\n",
    "a = np.eye(2)                # Create a 2x2 identity matrix\n",
    "print(\"np.eye:\\n\", a)  \n",
    "\n",
    "a = np.random.random((2,2))  # Create an array filled with random values\n",
    "print(\"np.random.random:\\n\", a)  \n",
    "\n",
    "a = np.random.choice([0,1],size=10,p=[0.8,0.2]) # Toss a biased Coin\n",
    "print(\"np.random.choice:\\n\", a)  \n",
    "\n",
    "a = np.linspace(0,10,11)     #  Create an array with 11 elements, last element included (endpoint=True)\n",
    "print(\"np.linspace:\\n\", a) \n",
    "\n",
    "a = np.arange(0,1,0.2)       #  Create an array with evenly spaced values within a given interval\n",
    "print(\"np.arange:\\n\", a) \n",
    "\n",
    "a = np.repeat(3,3)           #  Creates an array with repeated number\n",
    "print(\"np.repeat:\\n\", a) \n",
    "a = np.repeat([0,1,2],3)     #  Creates an array with elementwise array reptitions\n",
    "print(\"np.repeat:\\n\", a) \n",
    "\n",
    "a = np.tile([0,1,2],3)          # Creates an array by repeating A the number of times given by reps\n",
    "print(\"np.tile:\\n\", a) \n",
    "a = np.tile([0,1,2],[3,1])      # Stack 3 copies of a on top of each other\n",
    "print(\"np.tile:\\n\", a) \n",
    "\n",
    "a = np.array([[[1, 2, 3], [4, 5, 6]],       # Create a rank 3 array\n",
    "              [[7, 8, 9], [10, 11, 12]]])\n",
    "print(\"a shape:\\n\", a.shape)\n",
    "a = np.reshape(a,-1)                        # Reshape to rank 1 array (vector)\n",
    "print(\"a (flatten) shape:\\n\", a.shape)\n",
    "a = np.reshape(a,(-1,3))                    # Reshape to rank 3 array (matrix)\n",
    "print(\"a shape:\\n\", a.shape)"
   ]
  },
  {
   "cell_type": "markdown",
   "metadata": {},
   "source": [
    "## Array Indexing/Sclicing\n",
    "Numpy offers several ways to index into arrays. We will show the common indexing and slicing techniques. More information about indexing and slicing can be found in the [documentation](https://numpy.org/doc/stable/reference/arrays.indexing.html)\n",
    "\n",
    "`Slicing:` Similar to Python lists, numpy arrays can be sliced. Since arrays may be multidimensional, you must specify a slice for each dimension of the array:\n",
    "\n",
    "<br>\n",
    "Slicing in python means taking elements from one given index to another given index.\n",
    "\n",
    "* We pass slice instead of index like this: `[start:end]`\n",
    "\n",
    "* We can also define the step, like this: `[start:end:step]`\n",
    "\n",
    "* If we don't pass start its considered 0\n",
    "\n",
    "* If we don't pass end its considered length of array in that dimension\n",
    "\n",
    "* If we don't pass step its considered 1"
   ]
  },
  {
   "cell_type": "markdown",
   "metadata": {},
   "source": [
    "### Indexing and Slicing"
   ]
  },
  {
   "cell_type": "code",
   "execution_count": null,
   "metadata": {},
   "outputs": [],
   "source": [
    "# Create the following rank 2 array with shape (3, 4)\n",
    "# [[ 1  2  3  4]\n",
    "#  [ 5  6  7  8]\n",
    "#  [ 9 10 11 12]]\n",
    "a = np.array([[1,2,3,4],    # (0,4)\n",
    "              [5,6,7,8],    # (1,4) \n",
    "              [9,10,11,12]])# (2,4)\n",
    "print(\"a:\\n\",a)\n",
    "# Use slicing to pull out the subarray consisting of the first 2 rows\n",
    "# and columns 1 and 2; b is the following array of shape (2, 2):\n",
    "# [[2 3]\n",
    "#  [6 7]]\n",
    "# In other words: From the first and second element, slice elements from index 1 to index 3 (not included)\n",
    "b = a[:2, 1:3]\n",
    "print(\"b:\\n\",b)\n",
    "\n",
    "\n",
    "# A slice of an array is a view into the same data, so modifying it\n",
    "# will modify the original array.\n",
    "print(\"a[0, 1]:\\n\", a[0, 1])   # Prints \"2\"\n",
    "b[0, 0] = 42     # b[0, 0] is the same piece of data as a[0, 1]\n",
    "print(\"a[0, 1]:\\n\", a[0, 1])   # Prints \"42\""
   ]
  },
  {
   "cell_type": "markdown",
   "metadata": {},
   "source": [
    "### Mixture of integer indexing and slicing\n",
    "You can also mix integer indexing with slice indexing. However, doing so will yield an array of lower rank than the original array. "
   ]
  },
  {
   "cell_type": "code",
   "execution_count": null,
   "metadata": {},
   "outputs": [],
   "source": [
    "# Create the following rank 2 array with shape (3, 4)\n",
    "# [[ 1  2  3  4]\n",
    "#  [ 5  6  7  8]\n",
    "#  [ 9 10 11 12]]\n",
    "a = np.array([[1,2,3,4], [5,6,7,8], [9,10,11,12]])\n",
    "print(\"a:\\n\",a)\n",
    "\n",
    "# Two ways of accessing the data in the middle row of the array.\n",
    "# Mixing integer indexing with slices yields an array of lower rank,\n",
    "# while using only slices yields an array of the same rank as the\n",
    "# original array:\n",
    "row_r1 = a[1, :]    # Rank 1 view of the second row of a\n",
    "row_r2 = a[1:2, :]  # Rank 2 view of the second row of a\n",
    "print(\"Rank 1 view of the second row of a: \\n\",row_r1, row_r1.shape)  # Prints \"[5 6 7 8] (4,)\"\n",
    "print(\"Rank 2 view of the second row of a: \\n\", row_r2, row_r2.shape)  # Prints \"[[5 6 7 8]] (1, 4)\"\n",
    "\n",
    "# We can make the same distinction when accessing columns of an array:\n",
    "col_r1 = a[:, 1]\n",
    "col_r2 = a[:, 1:2]\n",
    "print(\"Rank 1 view of the second column of a: \\n\",col_r1, col_r1.shape)  # Prints \"[ 2  6 10] (3,)\"\n",
    "print(\"Rank 2 view of the second column of a: \\n\",col_r2, col_r2.shape)  # Prints \"[[ 2]\n",
    "                             #          [ 6]\n",
    "                             #          [10]] (3, 1)\""
   ]
  },
  {
   "cell_type": "markdown",
   "metadata": {},
   "source": [
    "### Integer array indexing\n",
    "When you index into numpy arrays using slicing, the resulting array view **will always be a subarray of the original array**.\n",
    "\n",
    "In contrast, **integer array indexing** allows you to construct arbitrary arrays using the data from another array. "
   ]
  },
  {
   "cell_type": "code",
   "execution_count": null,
   "metadata": {},
   "outputs": [],
   "source": [
    "a = np.array([[1,2], \n",
    "              [3, 4], \n",
    "              [5, 6]])\n",
    "print(\"a\\n\",a)\n",
    "print(\"a.shape\\n\",a.shape)\n",
    "\n",
    "# An example of integer array indexing.\n",
    "# The returned array will have shape (3,) and\n",
    "print(a[[0, 1, 2], #[[1 2]\n",
    "                   #[3 4]\n",
    "                   #[5 6]]\n",
    "        \n",
    "        [0, 1, 0]] # Use index 0 from [1 2], index 1 from [3 4] and index 0 from [5 6]\n",
    "     )  # Prints \"[1 4 5]\"\n",
    "\n",
    "# The above example of integer array indexing is equivalent to this:\n",
    "print(np.array([a[0, 0],  # Index 0 from first array [1,2] (Note this is the array)\n",
    "                a[1, 1],  # Index 1 from second array [3,4] (Note this is the array)\n",
    "                a[2, 0]]) # Index 0 from third array [3,4]\n",
    "     )  # Prints \"[1 4 5]\"\n",
    "\n",
    "# When using integer array indexing, you can reuse the same\n",
    "# element from the source array:\n",
    "print(\"Integer array indexing (same array):\\n\",a[[0, 0], [1, 1]])  # Prints \"[2 2]\"\n",
    "\n",
    "# Equivalent to the previous integer array indexing example\n",
    "print(\"Integer array indexing (new array):\\n\", np.array([a[0, 1], a[0, 1]]))  # Prints \"[2 2]\""
   ]
  },
  {
   "cell_type": "markdown",
   "metadata": {},
   "source": [
    "#### Useful tricks\n",
    "One useful trick with integer array indexing is selecting or mutating one element from each row of a matrix:"
   ]
  },
  {
   "cell_type": "code",
   "execution_count": null,
   "metadata": {},
   "outputs": [],
   "source": [
    "# Create a new array from which we will select elements\n",
    "a = np.array([[1,2,3], [4,5,6], [7,8,9], [10, 11, 12]])\n",
    "print(\"a:\\n\",a)\n",
    "\n",
    "# Create an array of indices\n",
    "b = np.array([0, 2, 0, 1])\n",
    "print(\"b:\\n\",b)\n",
    "\n",
    "# Select one element from each row of a using the indices in b\n",
    "print(\"Select one element from each row of a using the indices in b:\\n\",a[np.arange(4), b])  # Prints \"[ 1  6  7 11]\"\n",
    "\n",
    "# Mutate one element from each row of a using the indices in b\n",
    "a[np.arange(4), b] += 10\n",
    "\n",
    "print(\"a (mutated):\\n\",a)"
   ]
  },
  {
   "cell_type": "markdown",
   "metadata": {},
   "source": [
    "## Boolean Array indexing\n",
    "Boolean array indexing lets you pick out arbitrary elements of an array. Frequently this type of indexing is used to select the elements of an array that satisfy some condition"
   ]
  },
  {
   "cell_type": "code",
   "execution_count": null,
   "metadata": {},
   "outputs": [],
   "source": [
    "a = np.array([[1,2], \n",
    "              [3,4], \n",
    "              [5,6]])\n",
    "print(\"a:\\n\",a)\n",
    "bool_idx = (a > 2)   # Find the elements of a that are bigger than 2;\n",
    "                     # this returns a numpy array of Booleans of the same\n",
    "                     # shape as a, where each slot of bool_idx tells\n",
    "                     # whether that element of a is > 2.\n",
    "\n",
    "print(\"bool_idx:\\n\",bool_idx)      # Prints \"[[False False]\n",
    "                     #          [ True  True]\n",
    "                     #          [ True  True]]\"\n",
    "\n",
    "# We use boolean array indexing to construct a rank 1 array\n",
    "# consisting of the elements of a corresponding to the True values\n",
    "# of bool_idx\n",
    "print(a[bool_idx])  # Prints \"[3 4 5 6]\"\n",
    "\n",
    "# We can do all of the above in a single concise statement:\n",
    "print(a[a > 2])     # Prints \"[3 4 5 6]\"\n",
    "\n",
    "\n",
    "# ogid returns open and meshgrid dense multi-dimentional arrays\n",
    "x,y= np.ogrid[0:random.randint(2,10):1,\n",
    "              0:random.randint(4,8):1]\n",
    "print(\"x\\n\",x.flatten())\n",
    "print(\"y\\n\",y.flatten())\n",
    "# Using numpy.where function for array manipulation \n",
    "a = np.where(x==y,x,-1) # Returns x if x==y, else -1\n",
    "print(\"a (mutated):\\n\",a)"
   ]
  },
  {
   "cell_type": "markdown",
   "metadata": {},
   "source": [
    "# Matplotlib\n",
    "[Matplotlib](https://matplotlib.org/) is a plotting library. In this section give a brief introduction to the matplotlib.pyplot module, which provides a plotting system similar to that of MATLAB."
   ]
  },
  {
   "cell_type": "markdown",
   "metadata": {},
   "source": [
    "## Plotting\n",
    "The most important function in matplotlib is [plot](https://matplotlib.org/api/pyplot_api.html#matplotlib.pyplot.plot), which allows you to plot 2D data."
   ]
  },
  {
   "cell_type": "code",
   "execution_count": null,
   "metadata": {},
   "outputs": [],
   "source": [
    "import matplotlib.pyplot as plt\n",
    "\n",
    "# Compute the x and y coordinates for points on a sine curve\n",
    "x = np.arange(0, 3 * np.pi, 0.1)\n",
    "y = np.sin(x)\n",
    "\n",
    "# Plot the points using matplotlib\n",
    "plt.plot(x, y)\n",
    "plt.show()  # You should call plt.show() to make graphics appear."
   ]
  },
  {
   "cell_type": "markdown",
   "metadata": {},
   "source": [
    "With just a little bit of extra work we can easily plot multiple lines at once, and add a title, legend, and axis labels"
   ]
  },
  {
   "cell_type": "code",
   "execution_count": null,
   "metadata": {},
   "outputs": [],
   "source": [
    "# Compute the x and y coordinates for points on sine and cosine curves\n",
    "x = np.arange(0, 3 * np.pi, 0.1)\n",
    "y_sin = np.sin(x)\n",
    "y_cos = np.cos(x)\n",
    "\n",
    "# Plot the points using matplotlib\n",
    "plt.plot(x, y_sin)\n",
    "plt.plot(x, y_cos)\n",
    "plt.xlabel('x axis label')\n",
    "plt.ylabel('y axis label')\n",
    "plt.title('Sine and Cosine')\n",
    "plt.legend(['Sine', 'Cosine'])\n",
    "plt.show()"
   ]
  },
  {
   "cell_type": "markdown",
   "metadata": {},
   "source": [
    "## Subplots\n",
    "You can plot different things in the same figure using the [`subplot`](https://matplotlib.org/api/pyplot_api.html#matplotlib.pyplot.subplot) function.\n",
    "\n",
    "`subplot(row,column,index)`"
   ]
  },
  {
   "cell_type": "code",
   "execution_count": null,
   "metadata": {},
   "outputs": [],
   "source": [
    "# Compute the x and y coordinates for points on sine and cosine curves\n",
    "x = np.arange(0, 3 * np.pi, 0.1)\n",
    "y_sin = np.sin(x)\n",
    "y_cos = np.cos(x)\n",
    "\n",
    "# Set up a subplot grid that has 2 rows and 1 column,\n",
    "# and set the first such subplot as active.\n",
    "plt.subplot(2, 1, 1)\n",
    "\n",
    "# Make the first plot\n",
    "plt.plot(x, y_sin)\n",
    "plt.title('Sine')\n",
    "\n",
    "# Set the second subplot as active, and make the second plot.\n",
    "plt.subplot(2, 1, 2)\n",
    "plt.plot(x, y_cos)\n",
    "plt.title('Cosine')\n",
    "\n",
    "# Show the figure.\n",
    "plt.show()"
   ]
  },
  {
   "cell_type": "markdown",
   "metadata": {},
   "source": [
    "## Images\n",
    "You can use the [`imshow`](https://matplotlib.org/api/_as_gen/matplotlib.pyplot.imshow.html?highlight=imshow#matplotlib.pyplot.imshow) function to show images."
   ]
  },
  {
   "cell_type": "code",
   "execution_count": null,
   "metadata": {},
   "outputs": [],
   "source": [
    "img = cv2.imread('Pictures/Lenna.png')\n",
    "img = cv2.cvtColor(img, cv2.COLOR_RGB2BGR)  # Convert to right color space\n",
    "print(img.shape)                            # Shape of the image\n",
    "img_rand = img * np.random.uniform(high=10.0,size=3) # Manipulate image channgel with random vlaues\n",
    "\n",
    "# Show the original image\n",
    "plt.subplot(1, 2, 1)\n",
    "plt.imshow(img)\n",
    "\n",
    "# Show the manipulated image\n",
    "plt.subplot(1, 2, 2)\n",
    "\n",
    "# A slight problem with imshow is that it might give strange results\n",
    "# if presented with data that is not uint8. To work around this, we\n",
    "# explicitly cast the image to uint8 before displaying it.\n",
    "plt.imshow(np.uint8(img_rand))\n",
    "plt.show()"
   ]
  },
  {
   "cell_type": "code",
   "execution_count": null,
   "metadata": {},
   "outputs": [],
   "source": []
  }
 ],
 "metadata": {
  "hide_input": false,
  "kernelspec": {
   "display_name": "Python 3",
   "language": "python",
   "name": "python3"
  },
  "language_info": {
   "codemirror_mode": {
    "name": "ipython",
    "version": 3
   },
   "file_extension": ".py",
   "mimetype": "text/x-python",
   "name": "python",
   "nbconvert_exporter": "python",
   "pygments_lexer": "ipython3",
   "version": "3.6.9"
  },
  "toc": {
   "base_numbering": 1,
   "nav_menu": {},
   "number_sections": true,
   "sideBar": true,
   "skip_h1_title": false,
   "title_cell": "Table of Contents",
   "title_sidebar": "Contents",
   "toc_cell": false,
   "toc_position": {
    "height": "calc(100% - 180px)",
    "left": "10px",
    "top": "150px",
    "width": "384px"
   },
   "toc_section_display": true,
   "toc_window_display": true
  }
 },
 "nbformat": 4,
 "nbformat_minor": 4
}
